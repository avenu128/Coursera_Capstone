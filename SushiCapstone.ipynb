{
 "cells": [
  {
   "cell_type": "markdown",
   "metadata": {},
   "source": [
    "<h3>Introduction/Business Problem"
   ]
  },
  {
   "cell_type": "markdown",
   "metadata": {},
   "source": [
    "The information problem I came up with is for prospective restaraunt owners in Toronto. The goal of this project is to help a prospective owner decided which neighborhood to open up a sushi restaraunt in. Any one who opens a restaraunt obviously wants business to be good and to have a lot of customers, deciding which area to open the restaraunt in is crucial to the restaraunt's success."
   ]
  },
  {
   "cell_type": "markdown",
   "metadata": {},
   "source": [
    "<h3>Data"
   ]
  },
  {
   "cell_type": "markdown",
   "metadata": {},
   "source": [
    "Using the Foursquare API we can pull relevant information on Toronto neighborhoods and find out the optimal place to open a sushi restaraunt. The Foursquare api contains detailed information of venues in different locations of Toronto including restaraunts and what kind of restaraunt it is. Using this data we can find the frequency of rival sushi restaraunts in these neighborhoods to find an optimal spot to open the restaraunt in. The best spot will be in a neighborhood where there is less competition and more demand for a sushi restaraunt. "
   ]
  },
  {
   "cell_type": "code",
   "execution_count": null,
   "metadata": {},
   "outputs": [],
   "source": []
  }
 ],
 "metadata": {
  "kernelspec": {
   "display_name": "Python 3",
   "language": "python",
   "name": "python3"
  },
  "language_info": {
   "codemirror_mode": {
    "name": "ipython",
    "version": 3
   },
   "file_extension": ".py",
   "mimetype": "text/x-python",
   "name": "python",
   "nbconvert_exporter": "python",
   "pygments_lexer": "ipython3",
   "version": "3.7.0"
  }
 },
 "nbformat": 4,
 "nbformat_minor": 2
}
